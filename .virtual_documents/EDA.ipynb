import pandas as pd
import matplotlib.pyplot as plt

%matplotlib inline


print(plt.__version__)



books = pd.read_csv('data/books.csv')


books.head()


books.shape


books.info()


books.describe()


books.columns






