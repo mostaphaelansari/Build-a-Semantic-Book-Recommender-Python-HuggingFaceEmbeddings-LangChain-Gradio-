{
 "cells": [
  {
   "cell_type": "code",
   "execution_count": null,
   "id": "4b823192-3418-42a3-9c87-6114d8ddc18a",
   "metadata": {},
   "outputs": [],
   "source": []
  }
 ],
 "metadata": {
  "kernelspec": {
   "display_name": "",
   "name": ""
  },
  "language_info": {
   "name": ""
  }
 },
 "nbformat": 4,
 "nbformat_minor": 5
}
